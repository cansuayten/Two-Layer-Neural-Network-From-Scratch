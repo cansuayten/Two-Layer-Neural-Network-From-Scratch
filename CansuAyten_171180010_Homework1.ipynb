{
 "cells": [
  {
   "cell_type": "markdown",
   "id": "387cdaf0",
   "metadata": {},
   "source": [
    "## **Data Set Information**\n",
    "\n",
    "Attribute Information:\n",
    "- sepal length in cm\n",
    "- sepal width in cm\n",
    "- petal length in cm\n",
    "- petal width in cm\n",
    "- class:\n",
    "-- Iris Setosa\n",
    "-- Iris Versicolour\n",
    "-- Iris Virginica\n",
    "\n",
    "The dataset contains three classes. Each class has 50 instances.\n",
    "\n",
    "-------------------------------------------------------------------------------------------------------------------------------\n",
    "\n",
    "Steps in this assignment:\n",
    "1. Importing dataset, create training and test splits, read in features and labels (class/species) etc.\n",
    "2. Initializing the Network weights and biases (random normal distribution on start)\n",
    "3. Computing forward propagation\n",
    "4. Computing backpropagation\n",
    "5. Updating weights and bias\n",
    "6. Repeating steps 2 to 4 for n many iterations (epochs)\n",
    "\n",
    "Several visualizations about the data were also made.\n"
   ]
  },
  {
   "cell_type": "markdown",
   "id": "7034ce1e",
   "metadata": {},
   "source": [
    "## **Importing Libraries**"
   ]
  },
  {
   "cell_type": "code",
   "execution_count": 1,
   "id": "f8252d9c",
   "metadata": {},
   "outputs": [],
   "source": [
    "import pandas as pd\n",
    "import numpy as np\n",
    "import seaborn as sns\n",
    "import matplotlib.pyplot as plt"
   ]
  },
  {
   "cell_type": "markdown",
   "id": "d4b2ff0b",
   "metadata": {},
   "source": [
    "## **Importing Dataset** "
   ]
  },
  {
   "cell_type": "code",
   "execution_count": 2,
   "id": "5c5e6673",
   "metadata": {},
   "outputs": [],
   "source": [
    "#Dataset loaded.\n",
    "df = pd.read_csv(\"iris.csv\")"
   ]
  },
  {
   "cell_type": "markdown",
   "id": "5e81d077",
   "metadata": {},
   "source": [
    "## **Description of Dataset** "
   ]
  },
  {
   "cell_type": "code",
   "execution_count": 3,
   "id": "746876dc",
   "metadata": {
    "scrolled": false
   },
   "outputs": [
    {
     "data": {
      "text/html": [
       "<div>\n",
       "<style scoped>\n",
       "    .dataframe tbody tr th:only-of-type {\n",
       "        vertical-align: middle;\n",
       "    }\n",
       "\n",
       "    .dataframe tbody tr th {\n",
       "        vertical-align: top;\n",
       "    }\n",
       "\n",
       "    .dataframe thead th {\n",
       "        text-align: right;\n",
       "    }\n",
       "</style>\n",
       "<table border=\"1\" class=\"dataframe\">\n",
       "  <thead>\n",
       "    <tr style=\"text-align: right;\">\n",
       "      <th></th>\n",
       "      <th>Id</th>\n",
       "      <th>SepalLengthCm</th>\n",
       "      <th>SepalWidthCm</th>\n",
       "      <th>PetalLengthCm</th>\n",
       "      <th>PetalWidthCm</th>\n",
       "      <th>Species</th>\n",
       "    </tr>\n",
       "  </thead>\n",
       "  <tbody>\n",
       "    <tr>\n",
       "      <th>0</th>\n",
       "      <td>1</td>\n",
       "      <td>5.1</td>\n",
       "      <td>3.5</td>\n",
       "      <td>1.4</td>\n",
       "      <td>0.2</td>\n",
       "      <td>Iris-setosa</td>\n",
       "    </tr>\n",
       "    <tr>\n",
       "      <th>1</th>\n",
       "      <td>2</td>\n",
       "      <td>4.9</td>\n",
       "      <td>3.0</td>\n",
       "      <td>1.4</td>\n",
       "      <td>0.2</td>\n",
       "      <td>Iris-setosa</td>\n",
       "    </tr>\n",
       "    <tr>\n",
       "      <th>2</th>\n",
       "      <td>3</td>\n",
       "      <td>4.7</td>\n",
       "      <td>3.2</td>\n",
       "      <td>1.3</td>\n",
       "      <td>0.2</td>\n",
       "      <td>Iris-setosa</td>\n",
       "    </tr>\n",
       "    <tr>\n",
       "      <th>3</th>\n",
       "      <td>4</td>\n",
       "      <td>4.6</td>\n",
       "      <td>3.1</td>\n",
       "      <td>1.5</td>\n",
       "      <td>0.2</td>\n",
       "      <td>Iris-setosa</td>\n",
       "    </tr>\n",
       "    <tr>\n",
       "      <th>4</th>\n",
       "      <td>5</td>\n",
       "      <td>5.0</td>\n",
       "      <td>3.6</td>\n",
       "      <td>1.4</td>\n",
       "      <td>0.2</td>\n",
       "      <td>Iris-setosa</td>\n",
       "    </tr>\n",
       "  </tbody>\n",
       "</table>\n",
       "</div>"
      ],
      "text/plain": [
       "   Id  SepalLengthCm  SepalWidthCm  PetalLengthCm  PetalWidthCm      Species\n",
       "0   1            5.1           3.5            1.4           0.2  Iris-setosa\n",
       "1   2            4.9           3.0            1.4           0.2  Iris-setosa\n",
       "2   3            4.7           3.2            1.3           0.2  Iris-setosa\n",
       "3   4            4.6           3.1            1.5           0.2  Iris-setosa\n",
       "4   5            5.0           3.6            1.4           0.2  Iris-setosa"
      ]
     },
     "execution_count": 3,
     "metadata": {},
     "output_type": "execute_result"
    }
   ],
   "source": [
    "#First five rows of dataset displayed.\n",
    "df.head()"
   ]
  },
  {
   "cell_type": "code",
   "execution_count": 4,
   "id": "4ac982c8",
   "metadata": {},
   "outputs": [
    {
     "data": {
      "text/html": [
       "<div>\n",
       "<style scoped>\n",
       "    .dataframe tbody tr th:only-of-type {\n",
       "        vertical-align: middle;\n",
       "    }\n",
       "\n",
       "    .dataframe tbody tr th {\n",
       "        vertical-align: top;\n",
       "    }\n",
       "\n",
       "    .dataframe thead th {\n",
       "        text-align: right;\n",
       "    }\n",
       "</style>\n",
       "<table border=\"1\" class=\"dataframe\">\n",
       "  <thead>\n",
       "    <tr style=\"text-align: right;\">\n",
       "      <th></th>\n",
       "      <th>Id</th>\n",
       "      <th>SepalLengthCm</th>\n",
       "      <th>SepalWidthCm</th>\n",
       "      <th>PetalLengthCm</th>\n",
       "      <th>PetalWidthCm</th>\n",
       "      <th>Species</th>\n",
       "    </tr>\n",
       "  </thead>\n",
       "  <tbody>\n",
       "    <tr>\n",
       "      <th>145</th>\n",
       "      <td>146</td>\n",
       "      <td>6.7</td>\n",
       "      <td>3.0</td>\n",
       "      <td>5.2</td>\n",
       "      <td>2.3</td>\n",
       "      <td>Iris-virginica</td>\n",
       "    </tr>\n",
       "    <tr>\n",
       "      <th>146</th>\n",
       "      <td>147</td>\n",
       "      <td>6.3</td>\n",
       "      <td>2.5</td>\n",
       "      <td>5.0</td>\n",
       "      <td>1.9</td>\n",
       "      <td>Iris-virginica</td>\n",
       "    </tr>\n",
       "    <tr>\n",
       "      <th>147</th>\n",
       "      <td>148</td>\n",
       "      <td>6.5</td>\n",
       "      <td>3.0</td>\n",
       "      <td>5.2</td>\n",
       "      <td>2.0</td>\n",
       "      <td>Iris-virginica</td>\n",
       "    </tr>\n",
       "    <tr>\n",
       "      <th>148</th>\n",
       "      <td>149</td>\n",
       "      <td>6.2</td>\n",
       "      <td>3.4</td>\n",
       "      <td>5.4</td>\n",
       "      <td>2.3</td>\n",
       "      <td>Iris-virginica</td>\n",
       "    </tr>\n",
       "    <tr>\n",
       "      <th>149</th>\n",
       "      <td>150</td>\n",
       "      <td>5.9</td>\n",
       "      <td>3.0</td>\n",
       "      <td>5.1</td>\n",
       "      <td>1.8</td>\n",
       "      <td>Iris-virginica</td>\n",
       "    </tr>\n",
       "  </tbody>\n",
       "</table>\n",
       "</div>"
      ],
      "text/plain": [
       "      Id  SepalLengthCm  SepalWidthCm  PetalLengthCm  PetalWidthCm  \\\n",
       "145  146            6.7           3.0            5.2           2.3   \n",
       "146  147            6.3           2.5            5.0           1.9   \n",
       "147  148            6.5           3.0            5.2           2.0   \n",
       "148  149            6.2           3.4            5.4           2.3   \n",
       "149  150            5.9           3.0            5.1           1.8   \n",
       "\n",
       "            Species  \n",
       "145  Iris-virginica  \n",
       "146  Iris-virginica  \n",
       "147  Iris-virginica  \n",
       "148  Iris-virginica  \n",
       "149  Iris-virginica  "
      ]
     },
     "execution_count": 4,
     "metadata": {},
     "output_type": "execute_result"
    }
   ],
   "source": [
    "#Last five rows of dataset displayed.\n",
    "df.tail()"
   ]
  },
  {
   "cell_type": "code",
   "execution_count": 5,
   "id": "45021d70",
   "metadata": {
    "scrolled": true
   },
   "outputs": [
    {
     "data": {
      "text/html": [
       "<div>\n",
       "<style scoped>\n",
       "    .dataframe tbody tr th:only-of-type {\n",
       "        vertical-align: middle;\n",
       "    }\n",
       "\n",
       "    .dataframe tbody tr th {\n",
       "        vertical-align: top;\n",
       "    }\n",
       "\n",
       "    .dataframe thead th {\n",
       "        text-align: right;\n",
       "    }\n",
       "</style>\n",
       "<table border=\"1\" class=\"dataframe\">\n",
       "  <thead>\n",
       "    <tr style=\"text-align: right;\">\n",
       "      <th></th>\n",
       "      <th>SepalLengthCm</th>\n",
       "      <th>SepalWidthCm</th>\n",
       "      <th>PetalLengthCm</th>\n",
       "      <th>PetalWidthCm</th>\n",
       "      <th>Species</th>\n",
       "    </tr>\n",
       "  </thead>\n",
       "  <tbody>\n",
       "    <tr>\n",
       "      <th>0</th>\n",
       "      <td>5.1</td>\n",
       "      <td>3.5</td>\n",
       "      <td>1.4</td>\n",
       "      <td>0.2</td>\n",
       "      <td>Iris-setosa</td>\n",
       "    </tr>\n",
       "    <tr>\n",
       "      <th>1</th>\n",
       "      <td>4.9</td>\n",
       "      <td>3.0</td>\n",
       "      <td>1.4</td>\n",
       "      <td>0.2</td>\n",
       "      <td>Iris-setosa</td>\n",
       "    </tr>\n",
       "    <tr>\n",
       "      <th>2</th>\n",
       "      <td>4.7</td>\n",
       "      <td>3.2</td>\n",
       "      <td>1.3</td>\n",
       "      <td>0.2</td>\n",
       "      <td>Iris-setosa</td>\n",
       "    </tr>\n",
       "  </tbody>\n",
       "</table>\n",
       "</div>"
      ],
      "text/plain": [
       "   SepalLengthCm  SepalWidthCm  PetalLengthCm  PetalWidthCm      Species\n",
       "0            5.1           3.5            1.4           0.2  Iris-setosa\n",
       "1            4.9           3.0            1.4           0.2  Iris-setosa\n",
       "2            4.7           3.2            1.3           0.2  Iris-setosa"
      ]
     },
     "execution_count": 5,
     "metadata": {},
     "output_type": "execute_result"
    }
   ],
   "source": [
    "#The id column in the dataset has been removed from the dataset as it is unnecessary.\n",
    "df.drop('Id', axis=1, inplace=True)\n",
    "df.head(3)"
   ]
  },
  {
   "cell_type": "markdown",
   "id": "de497921",
   "metadata": {},
   "source": [
    "## **Shape of Dataset**"
   ]
  },
  {
   "cell_type": "code",
   "execution_count": 6,
   "id": "42b0de5a",
   "metadata": {},
   "outputs": [
    {
     "data": {
      "text/plain": [
       "(150, 5)"
      ]
     },
     "execution_count": 6,
     "metadata": {},
     "output_type": "execute_result"
    }
   ],
   "source": [
    "df.shape"
   ]
  },
  {
   "cell_type": "markdown",
   "id": "f3863ba5",
   "metadata": {},
   "source": [
    "## **Summary of Dataset**"
   ]
  },
  {
   "cell_type": "code",
   "execution_count": 7,
   "id": "84e971a4",
   "metadata": {},
   "outputs": [
    {
     "data": {
      "text/plain": [
       "Index(['SepalLengthCm', 'SepalWidthCm', 'PetalLengthCm', 'PetalWidthCm',\n",
       "       'Species'],\n",
       "      dtype='object')"
      ]
     },
     "execution_count": 7,
     "metadata": {},
     "output_type": "execute_result"
    }
   ],
   "source": [
    "df.columns"
   ]
  },
  {
   "cell_type": "code",
   "execution_count": 8,
   "id": "f5d9f50e",
   "metadata": {
    "scrolled": true
   },
   "outputs": [
    {
     "data": {
      "text/plain": [
       "array(['Iris-setosa', 'Iris-versicolor', 'Iris-virginica'], dtype=object)"
      ]
     },
     "execution_count": 8,
     "metadata": {},
     "output_type": "execute_result"
    }
   ],
   "source": [
    "#Checked how many unique species there are.\n",
    "df['Species'].unique()"
   ]
  },
  {
   "cell_type": "code",
   "execution_count": 9,
   "id": "ad6fc406",
   "metadata": {},
   "outputs": [
    {
     "data": {
      "text/plain": [
       "Iris-setosa        50\n",
       "Iris-versicolor    50\n",
       "Iris-virginica     50\n",
       "Name: Species, dtype: int64"
      ]
     },
     "execution_count": 9,
     "metadata": {},
     "output_type": "execute_result"
    }
   ],
   "source": [
    "#Data distribution displayed.\n",
    "df['Species'].value_counts()"
   ]
  },
  {
   "cell_type": "code",
   "execution_count": 10,
   "id": "ad8a9300",
   "metadata": {
    "scrolled": true
   },
   "outputs": [
    {
     "name": "stdout",
     "output_type": "stream",
     "text": [
      "<class 'pandas.core.frame.DataFrame'>\n",
      "RangeIndex: 150 entries, 0 to 149\n",
      "Data columns (total 5 columns):\n",
      " #   Column         Non-Null Count  Dtype  \n",
      "---  ------         --------------  -----  \n",
      " 0   SepalLengthCm  150 non-null    float64\n",
      " 1   SepalWidthCm   150 non-null    float64\n",
      " 2   PetalLengthCm  150 non-null    float64\n",
      " 3   PetalWidthCm   150 non-null    float64\n",
      " 4   Species        150 non-null    object \n",
      "dtypes: float64(4), object(1)\n",
      "memory usage: 6.0+ KB\n"
     ]
    }
   ],
   "source": [
    "#More information about the data. (number of data, memory usage, type)\n",
    "df.info()"
   ]
  },
  {
   "cell_type": "markdown",
   "id": "6fc3be26",
   "metadata": {},
   "source": [
    "## **Checking for Missing Values**"
   ]
  },
  {
   "cell_type": "code",
   "execution_count": 11,
   "id": "52caf2af",
   "metadata": {
    "scrolled": true
   },
   "outputs": [
    {
     "name": "stdout",
     "output_type": "stream",
     "text": [
      "SepalLengthCm    0\n",
      "SepalWidthCm     0\n",
      "PetalLengthCm    0\n",
      "PetalWidthCm     0\n",
      "Species          0\n",
      "dtype: int64\n",
      "\n",
      "Total number of null values: 0\n"
     ]
    }
   ],
   "source": [
    "#The data was checked for missing values. \n",
    "print(df.isnull().sum())\n",
    "total_null_val=df.isnull().sum().sum()\n",
    "print(\"\\nTotal number of null values:\",total_null_val)\n",
    "#There are no missing values."
   ]
  },
  {
   "cell_type": "markdown",
   "id": "8c269f8f",
   "metadata": {},
   "source": [
    "## **Statistical Calculations of Numerical Data**"
   ]
  },
  {
   "cell_type": "code",
   "execution_count": 12,
   "id": "a511e3e1",
   "metadata": {},
   "outputs": [
    {
     "data": {
      "text/html": [
       "<div>\n",
       "<style scoped>\n",
       "    .dataframe tbody tr th:only-of-type {\n",
       "        vertical-align: middle;\n",
       "    }\n",
       "\n",
       "    .dataframe tbody tr th {\n",
       "        vertical-align: top;\n",
       "    }\n",
       "\n",
       "    .dataframe thead th {\n",
       "        text-align: right;\n",
       "    }\n",
       "</style>\n",
       "<table border=\"1\" class=\"dataframe\">\n",
       "  <thead>\n",
       "    <tr style=\"text-align: right;\">\n",
       "      <th></th>\n",
       "      <th>count</th>\n",
       "      <th>mean</th>\n",
       "      <th>std</th>\n",
       "      <th>min</th>\n",
       "      <th>25%</th>\n",
       "      <th>50%</th>\n",
       "      <th>75%</th>\n",
       "      <th>max</th>\n",
       "    </tr>\n",
       "  </thead>\n",
       "  <tbody>\n",
       "    <tr>\n",
       "      <th>SepalLengthCm</th>\n",
       "      <td>150.0</td>\n",
       "      <td>5.843333</td>\n",
       "      <td>0.828066</td>\n",
       "      <td>4.3</td>\n",
       "      <td>5.1</td>\n",
       "      <td>5.80</td>\n",
       "      <td>6.4</td>\n",
       "      <td>7.9</td>\n",
       "    </tr>\n",
       "    <tr>\n",
       "      <th>SepalWidthCm</th>\n",
       "      <td>150.0</td>\n",
       "      <td>3.054000</td>\n",
       "      <td>0.433594</td>\n",
       "      <td>2.0</td>\n",
       "      <td>2.8</td>\n",
       "      <td>3.00</td>\n",
       "      <td>3.3</td>\n",
       "      <td>4.4</td>\n",
       "    </tr>\n",
       "    <tr>\n",
       "      <th>PetalLengthCm</th>\n",
       "      <td>150.0</td>\n",
       "      <td>3.758667</td>\n",
       "      <td>1.764420</td>\n",
       "      <td>1.0</td>\n",
       "      <td>1.6</td>\n",
       "      <td>4.35</td>\n",
       "      <td>5.1</td>\n",
       "      <td>6.9</td>\n",
       "    </tr>\n",
       "    <tr>\n",
       "      <th>PetalWidthCm</th>\n",
       "      <td>150.0</td>\n",
       "      <td>1.198667</td>\n",
       "      <td>0.763161</td>\n",
       "      <td>0.1</td>\n",
       "      <td>0.3</td>\n",
       "      <td>1.30</td>\n",
       "      <td>1.8</td>\n",
       "      <td>2.5</td>\n",
       "    </tr>\n",
       "  </tbody>\n",
       "</table>\n",
       "</div>"
      ],
      "text/plain": [
       "               count      mean       std  min  25%   50%  75%  max\n",
       "SepalLengthCm  150.0  5.843333  0.828066  4.3  5.1  5.80  6.4  7.9\n",
       "SepalWidthCm   150.0  3.054000  0.433594  2.0  2.8  3.00  3.3  4.4\n",
       "PetalLengthCm  150.0  3.758667  1.764420  1.0  1.6  4.35  5.1  6.9\n",
       "PetalWidthCm   150.0  1.198667  0.763161  0.1  0.3  1.30  1.8  2.5"
      ]
     },
     "execution_count": 12,
     "metadata": {},
     "output_type": "execute_result"
    }
   ],
   "source": [
    "#Statistical values were displayed for all numerical variables in the data.\n",
    "df.describe().T"
   ]
  },
  {
   "cell_type": "markdown",
   "id": "e476b78d",
   "metadata": {},
   "source": [
    "### **Visualizations**"
   ]
  },
  {
   "cell_type": "code",
   "execution_count": 13,
   "id": "4346da94",
   "metadata": {},
   "outputs": [
    {
     "data": {
      "image/png": "[encoded data removed]",
      "text/plain": [
       "<Figure size 432x288 with 1 Axes>"
      ]
     },
     "metadata": {
      "needs_background": "light"
     },
     "output_type": "display_data"
    }
   ],
   "source": [
    "sns.countplot(x=\"Species\", data=df,palette=[\"#424e63\",\"#75E2E8\", \"#D7F9FA\"])\n",
    "plt.show()"
   ]
  },
  {
   "cell_type": "code",
   "execution_count": 14,
   "id": "f40913dd",
   "metadata": {
    "scrolled": true
   },
   "outputs": [
    {
     "data": {
      "image/png": "[encoded data removed]",
      "text/plain": [
       "<Figure size 1080x576 with 4 Axes>"
      ]
     },
     "metadata": {
      "needs_background": "light"
     },
     "output_type": "display_data"
    }
   ],
   "source": [
    "df.hist(bins=10,edgecolor=\"black\", figsize=(15,8))\n",
    "plt.show()"
   ]
  },
  {
   "cell_type": "code",
   "execution_count": 15,
   "id": "a742daaf",
   "metadata": {},
   "outputs": [
    {
     "data": {
      "image/png": "[encoded data removed]",
      "text/plain": [
       "<Figure size 1080x360 with 2 Axes>"
      ]
     },
     "metadata": {
      "needs_background": "light"
     },
     "output_type": "display_data"
    }
   ],
   "source": [
    "fig = plt.figure(figsize=(15,5))\n",
    "plt.subplot(1,2,1)\n",
    "sns.scatterplot(x=\"SepalLengthCm\", y=\"SepalWidthCm\", hue=\"Species\", data=df,palette=[\"#7E203B\",\"#E07896\", \"#ffa97e\"])\n",
    "plt.legend(loc='upper right', title='Species')\n",
    "\n",
    "\n",
    "plt.subplot(1,2,2)\n",
    "sns.scatterplot(x=\"PetalLengthCm\", y=\"PetalWidthCm\", hue=\"Species\", data=df,palette=[\"#0c4f4e\",\"#5CD9B8\", \"#99cccc\"])\n",
    "plt.legend(loc='lower right', title='Species')\n",
    "plt.show()\n"
   ]
  },
  {
   "cell_type": "markdown",
   "id": "ac51d713",
   "metadata": {},
   "source": [
    "## **TRAIN TEST SPLIT**"
   ]
  },
  {
   "cell_type": "code",
   "execution_count": 16,
   "id": "15051358",
   "metadata": {},
   "outputs": [],
   "source": [
    "from sklearn.model_selection import train_test_split\n",
    "X =df.drop([\"Species\"], axis=1)\n",
    "y=df[\"Species\"]"
   ]
  },
  {
   "cell_type": "code",
   "execution_count": 17,
   "id": "fd7f65aa",
   "metadata": {},
   "outputs": [],
   "source": [
    "#Categorical data is converted to 0 and 1 (dummy variable).\n",
    "y= pd.get_dummies(y)"
   ]
  },
  {
   "cell_type": "code",
   "execution_count": 18,
   "id": "4797ee68",
   "metadata": {},
   "outputs": [],
   "source": [
    "#The data is shuffled and split into 80% training set and 20% test set.\n",
    "X_train, X_test, y_train, y_test = train_test_split(X, y, test_size=0.2, random_state=0)"
   ]
  },
  {
   "cell_type": "code",
   "execution_count": 19,
   "id": "42b33270",
   "metadata": {},
   "outputs": [
    {
     "name": "stdout",
     "output_type": "stream",
     "text": [
      "Shapes of train and test sets:\n",
      "X train: (120, 4)\n",
      "X test: (30, 4)\n",
      "y train: (120, 3)\n",
      "y test: (30, 3)\n"
     ]
    }
   ],
   "source": [
    "print(\"Shapes of train and test sets:\")\n",
    "print(\"X train: \"+str(X_train.shape))\n",
    "print(\"X test: \"+str(X_test.shape))\n",
    "print(\"y train: \"+str(y_train.shape))\n",
    "print(\"y test: \"+str(y_test.shape))"
   ]
  },
  {
   "cell_type": "markdown",
   "id": "110cfe2c",
   "metadata": {},
   "source": [
    "## **IMPLEMENTING A TWO LAYER NEURAL NETWORK FROM SCRATCH** "
   ]
  },
  {
   "cell_type": "markdown",
   "id": "101c08c1",
   "metadata": {},
   "source": [
    "- The simplest single-layer neural network model is called perceptron.\n",
    "- It has input and output layers.\n",
    "\n",
    "- The w value indicates the weights.\n",
    "- x values indicate inputs.\n",
    "- b values, on the other hand, are a constant number and are called bias.\n",
    "\n",
    "- Neural networks are multi-layer perceptrons."
   ]
  },
  {
   "cell_type": "code",
   "execution_count": 20,
   "id": "0966aa7b",
   "metadata": {},
   "outputs": [],
   "source": [
    "class NeuralNet():\n",
    "    def __init__(self, layers=[4,5,3], learning_rate=0.001, iterations=130):\n",
    "        self.params = {}\n",
    "        self.learning_rate = learning_rate\n",
    "        self.iterations = iterations\n",
    "        self.loss = []\n",
    "        self.sample_size = None\n",
    "        self.layers = layers\n",
    "        self.X = None\n",
    "        self.y = None\n",
    "        \n",
    "    def init_weights(self):\n",
    "        # Here the parameters are initialized. The goal is to build the neural network.\n",
    "        # Parameters: weight and bias\n",
    "        # Weights should not start too high or too low.\n",
    "        # I initialized the weights from a random normal distribution.\n",
    "        # But later these weights will change in code.\n",
    "        # w = weight matrix of dimension\n",
    "        # b = bias vector of dimension , constant value, affects the graph of the activation function. -for shifting left and right-\n",
    "        # input dimension = D, hidden layer = H, number of classes = C;\n",
    "        # In a two layer neural network \n",
    "        # W1 = First layer weights, its shape = (D,H)\n",
    "        # b1 = First layer biases, its shape = (H,)\n",
    "        # W2 = Second layer weights, its shape = (H,C)\n",
    "        # b3 = Second layer biases, its shape = (C,)\n",
    "        # The implementation of this is below.\n",
    "        np.random.seed(1) #If there is an error, the same random numbers are needed every time.\n",
    "        self.params[\"W1\"]=np.random.randn(self.layers[0],self.layers[1])\n",
    "        self.params[\"b1\"]=np.random.randn(self.layers[1],)\n",
    "        self.params[\"W2\"]=np.random.randn(self.layers[1],self.layers[2])\n",
    "        self.params[\"b2\"]=np.random.randn(self.layers[2],)\n",
    "           \n",
    "    def relu(self,Z):\n",
    "        # Rectifier Linear Unit\n",
    "        # This function compares each input\n",
    "        # It does not activate all neurons at the same time.\n",
    "        # Returns the value 0 to neurons producing a negative result. This makes the network work faster.\n",
    "        # That is, if the values are less than 0, it is 0, otherwise it is the value itself.\n",
    "        # Using the Numpy library, the result was achieved with a single line of code.\n",
    "        return np.maximum(0,Z)\n",
    "\n",
    "    def softmax(self,Z):\n",
    "        # normalize the output of a network to a probability distribution over predicted output classes\n",
    "        # Used in multiple classification problems.\n",
    "        # It is used when more than two classifications are required in the output layer.\n",
    "        # Probability gets rid of negativity. It is ensured that the sum of probabilities is between 0 and 1.\n",
    "        # For this, the data whose probability is calculated is divided by the total data.\n",
    "        \n",
    "        # There are three classes in this dataset. These are Iris-setosa, Iris-versicolor and Iris-virginica. \n",
    "        # Therefore, this function is used in the output layer.\n",
    "        result =np.exp(Z)/np.sum(np.exp(Z))\n",
    "        return result \n",
    "                \n",
    "    def derivative_of_relu(self,Z):\n",
    "        # Values less than or equal to zero take the value 0.\n",
    "        # Values greater than zero are 1.\n",
    "        ret = np.greater(Z, 0).astype(np.float64)\n",
    "        return ret      \n",
    "        \n",
    "    def cross_entropy_loss(self, y, yhat): \n",
    "        # yhat = predicted value of y (softmax output)\n",
    "        # y  = actual value of y \n",
    "        # It is the distance calculation between the output of the model and its true distribution.\n",
    "        n = y.shape[0]\n",
    "        loss=-(np.sum((y* np.log(yhat))))\n",
    "        loss=loss/float(n)\n",
    "        return loss\n",
    "  \n",
    "    def error(self, y, yhat):\n",
    "        # It was written to measure how much the model deviated from the correct results.\n",
    "        # For this, the actual values are subtracted from the estimated values. \n",
    "        # The absolute value of the result is taken and divided by the total number of values.\n",
    "        n = y.shape[0]\n",
    "        result = (np.abs(np.array(yhat) - np.array(y)))\n",
    "        err= result/float(n)\n",
    "        return err\n",
    "                    \n",
    "    def forward_propagation(self):\n",
    "        # Performs the forward propagation \n",
    "        # The incoming data is called input. These are delivered to neurons.\n",
    "        # The effect of these inputs on the output is determined by multiplying the inputs by the weights.\n",
    "        # There are two layers in a neural network. Hidden layer and output layer. The layers are linked.\n",
    "        # ReLU activation function is used for hidden layer.\n",
    "        # Softmax is used for the output layer. This is because it is a multi-class operation.\n",
    "        \n",
    "        # In this part, it goes from input to output. For each node, the input weight is multiplied by the available value and added with bias.\n",
    "        # Weights are given randomly at first. Output calculation will be made accordingly.\n",
    "        # Since the input is X, it is multiplied by W1 and added by b1 while finding Z1 (Z[0]).\n",
    "        # This value is linear. In order to break this structure, the obtained value is sent to the activation function. \n",
    "        # These functions normalize the inputs. A1 (A[0]) is obtained as output from the value sent to the Relu function.\n",
    "        # This value will be used as input for the other layer and multiplied by W2. \n",
    "        # The value of Z2 (Z[1]) will be reached by adding the value of b2 (bias2) to the result..\n",
    "        # Then, scores are obtained with softmax.\n",
    "        # All of these values are saved in params. \n",
    "        # With the cross entropy loss function, the loss value is found.\n",
    "        Z=[0,0]\n",
    "        A=[0,0]\n",
    "        Z[0] = np.dot(self.X, self.params[\"W1\"])+self.params[\"b1\"] #z1, pre-activision of first layer\n",
    "        A[0] = self.relu(Z[0]) #a1, activision of first layer\n",
    "        \n",
    "        Z[1] = np.dot(A[0], self.params[\"W2\"])+ self.params[\"b2\"] #z2, pre-activision of second layer\n",
    "        A[1] = self.softmax(Z[1]) #a2, activision of second layer\n",
    "        \n",
    "        \n",
    "        #The found values are saved in params.\n",
    "        self.params[\"Z1\"] = Z[0]\n",
    "        self.params[\"Z2\"] = Z[1]\n",
    "        self.params[\"A1\"] = A[0]\n",
    "        \n",
    "        \n",
    "        yhat = A[1] #scores from softmax ,a2\n",
    "        loss = self.cross_entropy_loss(self.y,yhat) #loss calculation\n",
    "        return yhat,loss\n",
    "        \n",
    "    def back_propagation(self, yhat):         # Computes the derivatives and update the weights and bias accordingly\n",
    "        # In this part, the transition is made backwards. \n",
    "        # In doing so, derivatives of functions are used.\n",
    "        # We do not know if the randomly assigned weight values are suitable for this model.\n",
    "        # Therefore, the error between the outputs and their actual values is found.\n",
    "        # This error should be minimized. For this, the parameters must be changed.\n",
    "        # That is, depending on the error, the weights are changed in order to find the actual, that is, the desired output. The resulting value will be used to update W2 and b2.\n",
    "        # This value and the W2 value, that is, the transpose of the weights of the second layer, are multiplied. \n",
    "        # Since matrix multiplication is done, it is necessary to get its transpose. Otherwise, an error may occur in the multiplication process.\n",
    "        # Finally, this function is multiplied by the derivative of the relu function. The resulting value will be used to update W1 and b1.\n",
    "        \n",
    "        dl_a2=self.error(self.y, yhat) #w2\n",
    "        dl_z1=np.dot(dl_a2,self.params[\"W2\"].T) \n",
    "        dl_a1=dl_z1 * self.derivative_of_relu(self.params[\"A1\"]) #w1\n",
    "\n",
    "        # Parameters have been updated.\n",
    "        # The learning rate is usually a value in the 0-1 range. The weights are scaled based on this value when updating. \n",
    "        self.params[\"W1\"] =self.params[\"W1\"]- self.learning_rate * np.dot(self.X.T,dl_a1)\n",
    "        self.params[\"b1\"] =self.params[\"b1\"]- self.learning_rate * np.sum(dl_a1,axis=0)\n",
    "        self.params[\"W2\"] =self.params[\"W2\"]-self.learning_rate * np.dot(self.params[\"A1\"].T,dl_a2)\n",
    "        self.params[\"b2\"] =self.params[\"b2\"]- self.learning_rate * np.sum(dl_a2, axis=0)\n",
    "        \n",
    "    def fit(self, X, y):        #  Trains the neural network using the specified data and labels\n",
    "        # Training begins.\n",
    "        # It takes x_train and y_train.\n",
    "        # First, it does forward propagation.\n",
    "        # Then, it does backpropagation.\n",
    "        # This way the weights and bias are updated.\n",
    "        # This is performed as many as the number of iterations. 130 has been selected.\n",
    "        self.X = X\n",
    "        self.y = y\n",
    "        self.init_weights() #initialize weights and bias\n",
    "        for i in range(self.iterations):\n",
    "            yhat, loss = self.forward_propagation()\n",
    "            self.back_propagation(yhat)\n",
    "            self.loss.append(loss) #It is saved because it will be used while drawing the chart of loss.\n",
    "                \n",
    "    def predict(self, X):         # Makes prediction using the model on test data\n",
    "        # It goes forward once. Then the largest of the outputs from softmax is selected.\n",
    "        # Its index is saved.\n",
    "        self.X=X\n",
    "        Z=[0,0]\n",
    "        A=[0,0]\n",
    "        Z[0]= X.dot(self.params[\"W1\"])+self.params[\"b1\"] #z1\n",
    "        A[0] = self.relu(Z[0]) #a1\n",
    "\n",
    "        Z[1] = A[0].dot(self.params[\"W2\"])+ self.params[\"b2\"] #z2\n",
    "        A[1] = self.softmax(Z[1]) #a2\n",
    "        pred = A[1] #scores from softmax ,a2\n",
    "        pred1=np.array(pred)\n",
    "        pred1=pred1.argmax(axis=1)\n",
    "        return pred1\n",
    "    \n",
    "    def acc(self, y, yhat):\n",
    "        y=np.argmax(y,axis=1)\n",
    "        # Calculates the accuracy between the predicted class label and the groundtruth class label\n",
    "        # It compares the estimated values with the actual values and divides the total number of identical values by the total number of values.\n",
    "        # Multiplying this value by 100 returns its accuracy.\n",
    "        acc = int(sum(y == yhat) / len(y) * 100)\n",
    "        return acc\n",
    "    \n",
    "    def plot_loss(self):\n",
    "        # Plots the loss curve during training\n",
    "        plt.plot(self.loss)\n",
    "        plt.xlabel(\"Iteration\")\n",
    "        plt.ylabel(\"logloss\")\n",
    "        plt.title(\"Loss curve for training\")\n",
    "        plt.show() "
   ]
  },
  {
   "cell_type": "code",
   "execution_count": 21,
   "id": "a9f7b163",
   "metadata": {},
   "outputs": [],
   "source": [
    "nn=NeuralNet()"
   ]
  },
  {
   "cell_type": "code",
   "execution_count": 22,
   "id": "f2d0f87e",
   "metadata": {},
   "outputs": [],
   "source": [
    "X_train= np.array(X_train)\n",
    "y_train= np.array(y_train)"
   ]
  },
  {
   "cell_type": "code",
   "execution_count": 23,
   "id": "d3de1f4a",
   "metadata": {},
   "outputs": [],
   "source": [
    "nn.fit(X_train,y_train)"
   ]
  },
  {
   "cell_type": "code",
   "execution_count": 24,
   "id": "4c27d363",
   "metadata": {
    "scrolled": true
   },
   "outputs": [
    {
     "data": {
      "text/plain": [
       "array([1, 1, 0, 1, 0, 1, 0, 1, 1, 1, 1, 1, 1, 1, 1, 0, 1, 1, 0, 0, 1, 1,\n",
       "       0, 2, 1, 2, 0, 1, 1, 0], dtype=int64)"
      ]
     },
     "execution_count": 24,
     "metadata": {},
     "output_type": "execute_result"
    }
   ],
   "source": [
    "y_pred = nn.predict(X_test)\n",
    "y_pred #predicted values"
   ]
  },
  {
   "cell_type": "code",
   "execution_count": 25,
   "id": "f271815a",
   "metadata": {
    "scrolled": true
   },
   "outputs": [],
   "source": [
    "y_test = np.array(y_test)"
   ]
  },
  {
   "cell_type": "code",
   "execution_count": 26,
   "id": "2c7ce4d2",
   "metadata": {},
   "outputs": [
    {
     "name": "stdout",
     "output_type": "stream",
     "text": [
      "Accuracy: % 73\n"
     ]
    }
   ],
   "source": [
    "print(\"Accuracy: %\",nn.acc(y_test,y_pred))"
   ]
  },
  {
   "cell_type": "code",
   "execution_count": 27,
   "id": "e995dcfb",
   "metadata": {},
   "outputs": [
    {
     "data": {
      "image/png": "[encoded data removed]",
      "text/plain": [
       "<Figure size 432x288 with 1 Axes>"
      ]
     },
     "metadata": {
      "needs_background": "light"
     },
     "output_type": "display_data"
    }
   ],
   "source": [
    "nn.plot_loss()"
   ]
  },
  {
   "cell_type": "code",
   "execution_count": null,
   "id": "1b973b3f",
   "metadata": {},
   "outputs": [],
   "source": []
  }
 ],
 "metadata": {
  "kernelspec": {
   "display_name": "Python 3 (ipykernel)",
   "language": "python",
   "name": "python3"
  },
  "language_info": {
   "codemirror_mode": {
    "name": "ipython",
    "version": 3
   },
   "file_extension": ".py",
   "mimetype": "text/x-python",
   "name": "python",
   "nbconvert_exporter": "python",
   "pygments_lexer": "ipython3",
   "version": "3.9.7"
  }
 },
 "nbformat": 4,
 "nbformat_minor": 5
}
